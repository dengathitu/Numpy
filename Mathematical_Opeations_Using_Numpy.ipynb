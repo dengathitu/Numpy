{
  "nbformat": 4,
  "nbformat_minor": 0,
  "metadata": {
    "colab": {
      "provenance": [],
      "authorship_tag": "ABX9TyMcQkKIQoREr9Vczw1KDtyZ",
      "include_colab_link": true
    },
    "kernelspec": {
      "name": "python3",
      "display_name": "Python 3"
    },
    "language_info": {
      "name": "python"
    }
  },
  "cells": [
    {
      "cell_type": "markdown",
      "metadata": {
        "id": "view-in-github",
        "colab_type": "text"
      },
      "source": [
        "<a href=\"https://colab.research.google.com/github/dengathitu/Numpy/blob/main/Mathematical_Opeations_Using_Numpy.ipynb\" target=\"_parent\"><img src=\"https://colab.research.google.com/assets/colab-badge.svg\" alt=\"Open In Colab\"/></a>"
      ]
    },
    {
      "cell_type": "code",
      "execution_count": 25,
      "metadata": {
        "id": "FAEkKxyJgobY"
      },
      "outputs": [],
      "source": [
        "import numpy as np"
      ]
    },
    {
      "cell_type": "code",
      "source": [
        "# 1. Create an array consisting of linearly spaced elements between 0 to 9\n",
        "original_array = np.arange(10)\n",
        "print(\"Original Array:\", original_array)"
      ],
      "metadata": {
        "colab": {
          "base_uri": "https://localhost:8080/"
        },
        "id": "RlnA2D5sgwNd",
        "outputId": "2d6210b8-70e8-4d1f-d1ca-91e8403439c4"
      },
      "execution_count": 26,
      "outputs": [
        {
          "output_type": "stream",
          "name": "stdout",
          "text": [
            "Original Array: [0 1 2 3 4 5 6 7 8 9]\n"
          ]
        }
      ]
    },
    {
      "cell_type": "code",
      "source": [
        "# 2. Replace all odd numbers in this array with -1 without modifying the original array\n",
        "modified_array = original_array.copy()\n",
        "modified_array[modified_array % 2 != 0] = -1\n",
        "print(\"Array with odd numbers replaced:\", modified_array)\n",
        "print(\"Original Array (unchanged):\", original_array) # Verify original is unchanged"
      ],
      "metadata": {
        "colab": {
          "base_uri": "https://localhost:8080/"
        },
        "id": "G2vk4rW5hrmn",
        "outputId": "35891a75-a28a-4efc-efbc-46a6d3e9aa42"
      },
      "execution_count": 27,
      "outputs": [
        {
          "output_type": "stream",
          "name": "stdout",
          "text": [
            "Array with odd numbers replaced: [ 0 -1  2 -1  4 -1  6 -1  8 -1]\n",
            "Original Array (unchanged): [0 1 2 3 4 5 6 7 8 9]\n"
          ]
        }
      ]
    },
    {
      "cell_type": "code",
      "source": [
        "# 3. Create a new array that contains the original 1-dimensional array converted into a 2-dimensional array, with two rows\n",
        "two_dimensional_array = original_array.reshape(2, 5)\n",
        "print(\"2-Dimensional Array:\", two_dimensional_array)"
      ],
      "metadata": {
        "colab": {
          "base_uri": "https://localhost:8080/"
        },
        "id": "QDWeCCwpl43w",
        "outputId": "03867d2d-ece3-452c-eca0-9f7f35ecfb8f"
      },
      "execution_count": 28,
      "outputs": [
        {
          "output_type": "stream",
          "name": "stdout",
          "text": [
            "2-Dimensional Array: [[0 1 2 3 4]\n",
            " [5 6 7 8 9]]\n"
          ]
        }
      ]
    },
    {
      "cell_type": "code",
      "source": [
        "# 4. Iterate through the original array and find out sum of all events\n",
        "sum_of_elements = np.sum(original_array)\n",
        "print(\"Sum of all elements in the original array:\", sum_of_elements)"
      ],
      "metadata": {
        "colab": {
          "base_uri": "https://localhost:8080/"
        },
        "id": "5Usbuq8SmSuP",
        "outputId": "6e290b81-437d-4030-f690-0b972568574a"
      },
      "execution_count": 29,
      "outputs": [
        {
          "output_type": "stream",
          "name": "stdout",
          "text": [
            "Sum of all elements in the original array: 45\n"
          ]
        }
      ]
    }
  ]
}