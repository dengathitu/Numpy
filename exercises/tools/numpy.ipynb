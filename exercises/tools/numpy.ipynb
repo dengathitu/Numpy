{
  "cells": [
    {
      "cell_type": "markdown",
      "id": "separate-plymouth",
      "metadata": {
        "id": "separate-plymouth"
      },
      "source": [
        "# NumPy"
      ]
    },
    {
      "cell_type": "code",
      "execution_count": null,
      "id": "danish-interference",
      "metadata": {
        "id": "danish-interference"
      },
      "outputs": [],
      "source": [
        "import numpy as np"
      ]
    },
    {
      "cell_type": "markdown",
      "id": "extraordinary-recognition",
      "metadata": {
        "id": "extraordinary-recognition"
      },
      "source": [
        "## Create an Array\n",
        "Write a Python program that creates an integer array with 4 elements of type unsigned int16 and prints the shape, the number of dimensions, and the length of each element in bytes."
      ]
    },
    {
      "cell_type": "code",
      "execution_count": 1,
      "id": "auburn-characterization",
      "metadata": {
        "colab": {
          "base_uri": "https://localhost:8080/"
        },
        "id": "auburn-characterization",
        "outputId": "12df2fe5-c147-4139-cf3c-8a83c0fd7033"
      },
      "outputs": [
        {
          "output_type": "stream",
          "name": "stdout",
          "text": [
            "Shape of the array: (4,)\n",
            "Number of dimensions: 1\n",
            "Length of each element in bytes: 2\n"
          ]
        }
      ],
      "source": [
        "import numpy as np\n",
        "\n",
        "# Create an integer array with 4 elements of type unsigned int16\n",
        "array = np.array([1, 2, 3, 4], dtype=np.uint16)\n",
        "\n",
        "# Print the shape of the array\n",
        "print(\"Shape of the array:\", array.shape)\n",
        "\n",
        "# Print the number of dimensions of the array\n",
        "print(\"Number of dimensions:\", array.ndim)\n",
        "\n",
        "# Print the length of each element in bytes\n",
        "print(\"Length of each element in bytes:\", array.itemsize)\n"
      ]
    },
    {
      "cell_type": "markdown",
      "id": "grand-house",
      "metadata": {
        "id": "grand-house"
      },
      "source": [
        "## Create a 2D Array\n",
        "Write a Python program that creates a $ 5 \\times 2 $ integer array from a range between 100 to 200 such that the difference between each element is 10."
      ]
    },
    {
      "cell_type": "code",
      "execution_count": 2,
      "id": "great-organization",
      "metadata": {
        "colab": {
          "base_uri": "https://localhost:8080/"
        },
        "id": "great-organization",
        "outputId": "66a58815-f0c7-4a3f-f16c-18ed57dfe818"
      },
      "outputs": [
        {
          "output_type": "stream",
          "name": "stdout",
          "text": [
            "2D Array:\n",
            "[[100 110]\n",
            " [120 130]\n",
            " [140 150]\n",
            " [160 170]\n",
            " [180 190]]\n"
          ]
        }
      ],
      "source": [
        "import numpy as np\n",
        "\n",
        "# Create an array with a range from 100 to 200 with a step of 10\n",
        "array = np.arange(100, 200, 10)\n",
        "\n",
        "# Reshape the array to 5x2\n",
        "array_2d = array.reshape(5, 2)\n",
        "\n",
        "# Print the array\n",
        "print(\"2D Array:\")\n",
        "print(array_2d)\n"
      ]
    },
    {
      "cell_type": "markdown",
      "id": "modern-thong",
      "metadata": {
        "id": "modern-thong"
      },
      "source": [
        "## Select Rows and Columns\n",
        "Write a Python program to return the 2D array of odd rows and even columns from the given numpy array."
      ]
    },
    {
      "cell_type": "code",
      "execution_count": null,
      "id": "contained-burlington",
      "metadata": {
        "id": "contained-burlington"
      },
      "outputs": [],
      "source": [
        "a = np.array([[3 ,6, 9, 12], [15 ,18, 21, 24], [27 ,30, 33, 36], [39 ,42, 45, 48], [51 ,54, 57, 60]])\n",
        "a"
      ]
    },
    {
      "cell_type": "code",
      "execution_count": 14,
      "id": "heard-consultation",
      "metadata": {
        "colab": {
          "base_uri": "https://localhost:8080/"
        },
        "id": "heard-consultation",
        "outputId": "3cccdf9a-cc10-4a78-a254-a754d9f20cfa"
      },
      "outputs": [
        {
          "output_type": "stream",
          "name": "stdout",
          "text": [
            "Original array:\n",
            "[[ 3  6  9 12]\n",
            " [15 18 21 24]\n",
            " [27 30 33 36]\n",
            " [39 42 45 48]\n",
            " [51 54 57 60]]\n"
          ]
        }
      ],
      "source": [
        "# Original array\n",
        "\n",
        "a = np.array([[3, 6, 9, 12], [15, 18, 21, 24], [27, 30, 33, 36], [39, 42, 45, 48], [51, 54, 57, 60]])\n",
        "print(\"Original array:\")\n",
        "print(a)\n"
      ]
    },
    {
      "cell_type": "markdown",
      "source": [
        "# Selecting Odd Rows and Even Columns\n",
        "\n",
        "*   Odd Rows: Rows with indices 0, 2, 4, etc.\n",
        "*   Even Columns: Columns with indices 0, 2, etc.\n"
      ],
      "metadata": {
        "id": "uuUJNBMpCPAL"
      },
      "id": "uuUJNBMpCPAL"
    },
    {
      "cell_type": "code",
      "source": [
        "# use slicing to select the desired rows and columns:\n",
        "\n",
        "# Select odd rows (rows with indices 1, 3, 5, etc.)\n",
        "odd_rows = a[::2]\n",
        "\n",
        "# Select even columns (columns with indices 0, 2, etc.)\n",
        "result = odd_rows[:, ::2]\n",
        "\n",
        "print(\"\\n2D array with odd rows and even columns:\")\n",
        "print(result)"
      ],
      "metadata": {
        "colab": {
          "base_uri": "https://localhost:8080/"
        },
        "id": "ZV2CgVRiC6Em",
        "outputId": "0892a988-a65b-484b-b423-ad208457a4bf"
      },
      "id": "ZV2CgVRiC6Em",
      "execution_count": 15,
      "outputs": [
        {
          "output_type": "stream",
          "name": "stdout",
          "text": [
            "\n",
            "2D array with odd rows and even columns:\n",
            "[[ 3  9]\n",
            " [27 33]\n",
            " [51 57]]\n"
          ]
        }
      ]
    },
    {
      "cell_type": "markdown",
      "source": [
        "# Combining everything => Complete Program"
      ],
      "metadata": {
        "id": "KD9YE2kyDEhI"
      },
      "id": "KD9YE2kyDEhI"
    },
    {
      "cell_type": "code",
      "source": [
        "# Original array\n",
        "a = np.array([[3, 6, 9, 12], [15, 18, 21, 24], [27, 30, 33, 36], [39, 42, 45, 48], [51, 54, 57, 60]])\n",
        "print(\"Original array:\")\n",
        "print(a)\n",
        "\n",
        "# Select odd rows (rows with indices 0, 2, 4, etc.)\n",
        "odd_rows = a[::2]\n",
        "\n",
        "# Select even columns (columns with indices 0, 2, etc.)\n",
        "result = odd_rows[:, ::2]\n",
        "\n",
        "print(\"\\n2D array with odd rows and even columns:\")\n",
        "print(result)\n"
      ],
      "metadata": {
        "colab": {
          "base_uri": "https://localhost:8080/"
        },
        "id": "6svITUWMDLeW",
        "outputId": "c218bca9-1ef8-4394-cdfc-2366c20f94a3"
      },
      "id": "6svITUWMDLeW",
      "execution_count": 16,
      "outputs": [
        {
          "output_type": "stream",
          "name": "stdout",
          "text": [
            "Original array:\n",
            "[[ 3  6  9 12]\n",
            " [15 18 21 24]\n",
            " [27 30 33 36]\n",
            " [39 42 45 48]\n",
            " [51 54 57 60]]\n",
            "\n",
            "2D array with odd rows and even columns:\n",
            "[[ 3  9]\n",
            " [27 33]\n",
            " [51 57]]\n"
          ]
        }
      ]
    },
    {
      "cell_type": "markdown",
      "id": "close-collector",
      "metadata": {
        "id": "close-collector"
      },
      "source": [
        "## Compute Numerical Operations\n",
        "Write a Python program that computes the sum, the element-wise multiplication, and the matrix multiplication of the given numpy arrays."
      ]
    },
    {
      "cell_type": "code",
      "execution_count": null,
      "id": "premium-compiler",
      "metadata": {
        "id": "premium-compiler"
      },
      "outputs": [],
      "source": [
        "a = np.array([[5, 6], [21, 18]])\n",
        "b = np.array([[15, 33], [4, 7]])\n",
        "a, b"
      ]
    },
    {
      "cell_type": "markdown",
      "source": [
        "# Given Arrays"
      ],
      "metadata": {
        "id": "9cjeSpNnDxFh"
      },
      "id": "9cjeSpNnDxFh"
    },
    {
      "cell_type": "code",
      "execution_count": 17,
      "id": "activated-occurrence",
      "metadata": {
        "colab": {
          "base_uri": "https://localhost:8080/"
        },
        "id": "activated-occurrence",
        "outputId": "ff874d9a-2b70-488c-d4f5-e16548cded00"
      },
      "outputs": [
        {
          "output_type": "stream",
          "name": "stdout",
          "text": [
            "Array a:\n",
            "[[ 5  6]\n",
            " [21 18]]\n",
            "\n",
            "Array b:\n",
            "[[15 33]\n",
            " [ 4  7]]\n"
          ]
        }
      ],
      "source": [
        "a = np.array([[5, 6], [21, 18]])\n",
        "b = np.array([[15, 33], [4, 7]])\n",
        "\n",
        "print(\"Array a:\")\n",
        "print(a)\n",
        "print(\"\\nArray b:\")\n",
        "print(b)\n"
      ]
    },
    {
      "cell_type": "markdown",
      "source": [
        "# Computing the Sum\n",
        "\n",
        "*   The sum of the two arrays is computed element-wise.List item"
      ],
      "metadata": {
        "id": "3qYhsHGHD-bm"
      },
      "id": "3qYhsHGHD-bm"
    },
    {
      "cell_type": "code",
      "source": [
        "# Compute the sum\n",
        "sum_arrays = a + b\n",
        "print(\"\\nSum of a and b:\")\n",
        "print(sum_arrays)\n"
      ],
      "metadata": {
        "colab": {
          "base_uri": "https://localhost:8080/"
        },
        "id": "emYrMiKDEOUz",
        "outputId": "9be1257a-3f42-47ff-871d-403a33bcce83"
      },
      "id": "emYrMiKDEOUz",
      "execution_count": 21,
      "outputs": [
        {
          "output_type": "stream",
          "name": "stdout",
          "text": [
            "\n",
            "Sum of a and b:\n",
            "[[20 39]\n",
            " [25 25]]\n"
          ]
        }
      ]
    },
    {
      "cell_type": "markdown",
      "source": [
        "# Computing the Element-Wise Multiplication\n",
        "\n",
        "*   The element-wise multiplication of the two arrays is computed by multiplying corresponding elements."
      ],
      "metadata": {
        "id": "GSh49wIOESQw"
      },
      "id": "GSh49wIOESQw"
    },
    {
      "cell_type": "code",
      "source": [
        "# Compute the element-wise multiplication\n",
        "elementwise_mul = a * b\n",
        "print(\"\\nElement-wise multiplication of a and b:\")\n",
        "print(elementwise_mul)\n"
      ],
      "metadata": {
        "colab": {
          "base_uri": "https://localhost:8080/"
        },
        "id": "uaEd7WLZEhX8",
        "outputId": "0ab0a4a9-c11c-4dce-8081-4f4f9679c219"
      },
      "id": "uaEd7WLZEhX8",
      "execution_count": 19,
      "outputs": [
        {
          "output_type": "stream",
          "name": "stdout",
          "text": [
            "\n",
            "Element-wise multiplication of a and b:\n",
            "[[ 75 198]\n",
            " [ 84 126]]\n"
          ]
        }
      ]
    },
    {
      "cell_type": "markdown",
      "source": [
        "# Computing the Matrix Multiplication\n",
        "* Matrix multiplication is performed using the dot product."
      ],
      "metadata": {
        "id": "h6EHg5rGEm45"
      },
      "id": "h6EHg5rGEm45"
    },
    {
      "cell_type": "code",
      "source": [
        "# Compute the matrix multiplication\n",
        "matrix_mul = np.dot(a, b)\n",
        "print(\"\\nMatrix multiplication of a and b:\")\n",
        "print(matrix_mul)\n"
      ],
      "metadata": {
        "colab": {
          "base_uri": "https://localhost:8080/"
        },
        "id": "gFr3GfPVEwV1",
        "outputId": "e5ec8cc5-c421-4628-c1a0-c2b5b4f8e7f9"
      },
      "id": "gFr3GfPVEwV1",
      "execution_count": 18,
      "outputs": [
        {
          "output_type": "stream",
          "name": "stdout",
          "text": [
            "\n",
            "Matrix multiplication of a and b:\n",
            "[[ 99 207]\n",
            " [387 819]]\n"
          ]
        }
      ]
    },
    {
      "cell_type": "markdown",
      "source": [
        "# Combining everything => Complete Program"
      ],
      "metadata": {
        "id": "JDinFON6Ezs3"
      },
      "id": "JDinFON6Ezs3"
    },
    {
      "cell_type": "code",
      "source": [
        "# Given arrays\n",
        "a = np.array([[5, 6], [21, 18]])\n",
        "b = np.array([[15, 33], [4, 7]])\n",
        "\n",
        "print(\"Array a:\")\n",
        "print(a)\n",
        "print(\"\\nArray b:\")\n",
        "print(b)\n",
        "\n",
        "# Compute the sum\n",
        "sum_arrays = a + b\n",
        "print(\"\\nSum of a and b:\")\n",
        "print(sum_arrays)\n",
        "\n",
        "# Compute the element-wise multiplication\n",
        "elementwise_mul = a * b\n",
        "print(\"\\nElement-wise multiplication of a and b:\")\n",
        "print(elementwise_mul)\n",
        "\n",
        "# Compute the matrix multiplication\n",
        "matrix_mul = np.dot(a, b)\n",
        "print(\"\\nMatrix multiplication of a and b:\")\n",
        "print(matrix_mul)\n"
      ],
      "metadata": {
        "colab": {
          "base_uri": "https://localhost:8080/"
        },
        "id": "hnelpRx4FGe3",
        "outputId": "a9069fbc-3a47-43c5-a732-f84bf542dc8d"
      },
      "id": "hnelpRx4FGe3",
      "execution_count": 20,
      "outputs": [
        {
          "output_type": "stream",
          "name": "stdout",
          "text": [
            "Array a:\n",
            "[[ 5  6]\n",
            " [21 18]]\n",
            "\n",
            "Array b:\n",
            "[[15 33]\n",
            " [ 4  7]]\n",
            "\n",
            "Sum of a and b:\n",
            "[[20 39]\n",
            " [25 25]]\n",
            "\n",
            "Element-wise multiplication of a and b:\n",
            "[[ 75 198]\n",
            " [ 84 126]]\n",
            "\n",
            "Matrix multiplication of a and b:\n",
            "[[ 99 207]\n",
            " [387 819]]\n"
          ]
        }
      ]
    },
    {
      "cell_type": "markdown",
      "id": "fabulous-identification",
      "metadata": {
        "id": "fabulous-identification"
      },
      "source": [
        "## Split and Concatenate an Array\n",
        "Write a Python program to split the given $ 8 \\times 3 $ array into 4 equal-sized $ 2 \\times 3 $ sub-arrays. Then, concatenate the splitted arrays vertically to rebuilt the original array."
      ]
    },
    {
      "cell_type": "code",
      "execution_count": null,
      "id": "encouraging-ultimate",
      "metadata": {
        "id": "encouraging-ultimate"
      },
      "outputs": [],
      "source": [
        "a = np.arange(10, 34, 1).reshape(8, 3)\n",
        "a"
      ]
    },
    {
      "cell_type": "markdown",
      "source": [
        "# Step 1: Create the Original Array"
      ],
      "metadata": {
        "id": "qn2PVE_ZAZVQ"
      },
      "id": "qn2PVE_ZAZVQ"
    },
    {
      "cell_type": "code",
      "execution_count": 10,
      "id": "tested-village",
      "metadata": {
        "colab": {
          "base_uri": "https://localhost:8080/"
        },
        "id": "tested-village",
        "outputId": "045b4c22-d9b3-46e7-e01a-25e8a6a83fb9"
      },
      "outputs": [
        {
          "output_type": "stream",
          "name": "stdout",
          "text": [
            "Original array:\n",
            "[[10 11 12]\n",
            " [13 14 15]\n",
            " [16 17 18]\n",
            " [19 20 21]\n",
            " [22 23 24]\n",
            " [25 26 27]\n",
            " [28 29 30]\n",
            " [31 32 33]]\n"
          ]
        }
      ],
      "source": [
        "# Create the 8×3 array from a range between 10 to 34\n",
        "a = np.arange(10, 34).reshape(8, 3)\n",
        "print(\"Original array:\")\n",
        "print(a)\n"
      ]
    },
    {
      "cell_type": "markdown",
      "source": [
        "# Step 2: Split the Array into Four 2×3 Sub-Arrays"
      ],
      "metadata": {
        "id": "9xSNJMn1AS3B"
      },
      "id": "9xSNJMn1AS3B"
    },
    {
      "cell_type": "code",
      "source": [
        "# Split the array into four 2×3 sub-arrays\n",
        "sub_arrays = np.split(a, 4)\n",
        "print(\"\\nSplitted sub-arrays:\")\n",
        "for sub_array in sub_arrays:\n",
        "    print(sub_array)\n"
      ],
      "metadata": {
        "colab": {
          "base_uri": "https://localhost:8080/"
        },
        "id": "9tpb69PuAMe0",
        "outputId": "1743f3f6-207d-409e-982c-892b8c875c2c"
      },
      "id": "9tpb69PuAMe0",
      "execution_count": 11,
      "outputs": [
        {
          "output_type": "stream",
          "name": "stdout",
          "text": [
            "\n",
            "Splitted sub-arrays:\n",
            "[[10 11 12]\n",
            " [13 14 15]]\n",
            "[[16 17 18]\n",
            " [19 20 21]]\n",
            "[[22 23 24]\n",
            " [25 26 27]]\n",
            "[[28 29 30]\n",
            " [31 32 33]]\n"
          ]
        }
      ]
    },
    {
      "cell_type": "markdown",
      "source": [
        "# Step 3: Concatenate the Sub-Arrays Vertically to Rebuild the Original Array"
      ],
      "metadata": {
        "id": "GP44upXBAilD"
      },
      "id": "GP44upXBAilD"
    },
    {
      "cell_type": "code",
      "source": [
        "# Concatenate the sub-arrays vertically\n",
        "reconstructed_array = np.vstack(sub_arrays)\n",
        "print(\"\\nReconstructed array:\")\n",
        "print(reconstructed_array)\n"
      ],
      "metadata": {
        "colab": {
          "base_uri": "https://localhost:8080/"
        },
        "id": "iOQhn-4JApVQ",
        "outputId": "71942f38-978b-4074-f5ae-b831ae1a5ac3"
      },
      "id": "iOQhn-4JApVQ",
      "execution_count": 12,
      "outputs": [
        {
          "output_type": "stream",
          "name": "stdout",
          "text": [
            "\n",
            "Reconstructed array:\n",
            "[[10 11 12]\n",
            " [13 14 15]\n",
            " [16 17 18]\n",
            " [19 20 21]\n",
            " [22 23 24]\n",
            " [25 26 27]\n",
            " [28 29 30]\n",
            " [31 32 33]]\n"
          ]
        }
      ]
    },
    {
      "cell_type": "markdown",
      "source": [
        "# Combining everything => Complete Program"
      ],
      "metadata": {
        "id": "FyhqXHtyAwEY"
      },
      "id": "FyhqXHtyAwEY"
    },
    {
      "cell_type": "code",
      "source": [
        "# Create the 8×3 array from a range between 10 to 34\n",
        "a = np.arange(10, 34).reshape(8, 3)\n",
        "print(\"Original array:\")\n",
        "print(a)\n",
        "\n",
        "# Split the array into four 2×3 sub-arrays\n",
        "sub_arrays = np.split(a, 4)\n",
        "print(\"\\nSplitted sub-arrays:\")\n",
        "for sub_array in sub_arrays:\n",
        "    print(sub_array)\n",
        "\n",
        "# Concatenate the sub-arrays vertically\n",
        "reconstructed_array = np.vstack(sub_arrays)\n",
        "print(\"\\nReconstructed array:\")\n",
        "print(reconstructed_array)\n"
      ],
      "metadata": {
        "colab": {
          "base_uri": "https://localhost:8080/"
        },
        "id": "zOV10FTpBC4S",
        "outputId": "135f0c88-8d82-438e-d8f4-89f3441189d2"
      },
      "id": "zOV10FTpBC4S",
      "execution_count": 13,
      "outputs": [
        {
          "output_type": "stream",
          "name": "stdout",
          "text": [
            "Original array:\n",
            "[[10 11 12]\n",
            " [13 14 15]\n",
            " [16 17 18]\n",
            " [19 20 21]\n",
            " [22 23 24]\n",
            " [25 26 27]\n",
            " [28 29 30]\n",
            " [31 32 33]]\n",
            "\n",
            "Splitted sub-arrays:\n",
            "[[10 11 12]\n",
            " [13 14 15]]\n",
            "[[16 17 18]\n",
            " [19 20 21]]\n",
            "[[22 23 24]\n",
            " [25 26 27]]\n",
            "[[28 29 30]\n",
            " [31 32 33]]\n",
            "\n",
            "Reconstructed array:\n",
            "[[10 11 12]\n",
            " [13 14 15]\n",
            " [16 17 18]\n",
            " [19 20 21]\n",
            " [22 23 24]\n",
            " [25 26 27]\n",
            " [28 29 30]\n",
            " [31 32 33]]\n"
          ]
        }
      ]
    },
    {
      "cell_type": "markdown",
      "id": "super-vietnam",
      "metadata": {
        "id": "super-vietnam"
      },
      "source": [
        "## Replace a Column\n",
        "Write a Python program that replaces the second column from the given array with the new given column."
      ]
    },
    {
      "cell_type": "code",
      "execution_count": null,
      "id": "negative-techno",
      "metadata": {
        "id": "negative-techno"
      },
      "outputs": [],
      "source": [
        "a = np.array([[34, 43, 73], [82, 22, 12], [53, 94, 66]])\n",
        "new_column = np.array([[10, 10, 10]])\n",
        "a, new_column"
      ]
    },
    {
      "cell_type": "markdown",
      "source": [
        "# Original Array"
      ],
      "metadata": {
        "id": "SFQhsJcTG2tn"
      },
      "id": "SFQhsJcTG2tn"
    },
    {
      "cell_type": "code",
      "execution_count": 7,
      "id": "undefined-notion",
      "metadata": {
        "colab": {
          "base_uri": "https://localhost:8080/"
        },
        "id": "undefined-notion",
        "outputId": "454bfdbd-39ab-4344-d756-d6f1d1998242"
      },
      "outputs": [
        {
          "output_type": "stream",
          "name": "stdout",
          "text": [
            "Original array:\n",
            "[[34 43 73]\n",
            " [82 22 12]\n",
            " [53 94 66]]\n",
            "\n",
            "New column to be inserted:\n",
            "[10 10 10]\n"
          ]
        }
      ],
      "source": [
        "# Given array and the new column\n",
        "a = np.array([[34, 43, 73], [82, 22, 12], [53, 94, 66]])\n",
        "new_column = np.array([10, 10, 10])\n",
        "\n",
        "print(\"Original array:\")\n",
        "print(a)\n",
        "print(\"\\nNew column to be inserted:\")\n",
        "print(new_column)\n"
      ]
    },
    {
      "cell_type": "markdown",
      "source": [
        "# Replace the second column of a with the new_column"
      ],
      "metadata": {
        "id": "RdPib3TiFhM3"
      },
      "id": "RdPib3TiFhM3"
    },
    {
      "cell_type": "code",
      "source": [
        "# Replace the second column\n",
        "a[:, 1] = new_column\n",
        "\n",
        "print(\"\\nArray after replacing the second column:\")\n",
        "print(a)\n"
      ],
      "metadata": {
        "colab": {
          "base_uri": "https://localhost:8080/"
        },
        "id": "BAnnO759_PUu",
        "outputId": "a941d5c8-273f-44ce-c986-0c62b88333bf"
      },
      "id": "BAnnO759_PUu",
      "execution_count": 8,
      "outputs": [
        {
          "output_type": "stream",
          "name": "stdout",
          "text": [
            "\n",
            "Array after replacing the second column:\n",
            "[[34 10 73]\n",
            " [82 10 12]\n",
            " [53 10 66]]\n"
          ]
        }
      ]
    },
    {
      "cell_type": "markdown",
      "source": [
        "# Combining Everything"
      ],
      "metadata": {
        "id": "rLqd4BGBFod3"
      },
      "id": "rLqd4BGBFod3"
    },
    {
      "cell_type": "code",
      "source": [
        "# Original array\n",
        "a = np.array([[34, 43, 73], [82, 22, 12], [53, 94, 66]])\n",
        "new_column = np.array([10, 10, 10])\n",
        "\n",
        "print(\"Original array:\")\n",
        "print(a)\n",
        "\n",
        "print(\"\\nNew column to be inserted:\")\n",
        "print(new_column)\n",
        "\n",
        "# Replace the second column\n",
        "a[:, 1] = new_column\n",
        "\n",
        "print(\"\\nArray after replacing the second column:\")\n",
        "print(a)\n"
      ],
      "metadata": {
        "colab": {
          "base_uri": "https://localhost:8080/"
        },
        "id": "NIm6P3VZ_RqA",
        "outputId": "0f6faa61-32e3-42a6-f7ff-af353373dbaa"
      },
      "id": "NIm6P3VZ_RqA",
      "execution_count": 9,
      "outputs": [
        {
          "output_type": "stream",
          "name": "stdout",
          "text": [
            "Original array:\n",
            "[[34 43 73]\n",
            " [82 22 12]\n",
            " [53 94 66]]\n",
            "\n",
            "New column to be inserted:\n",
            "[10 10 10]\n",
            "\n",
            "Array after replacing the second column:\n",
            "[[34 10 73]\n",
            " [82 10 12]\n",
            " [53 10 66]]\n"
          ]
        }
      ]
    },
    {
      "cell_type": "markdown",
      "id": "identical-turner",
      "metadata": {
        "id": "identical-turner"
      },
      "source": [
        "## Sort Rows and Columns\n",
        "Write a Python program to sort the given 2D array in 2 scenarios: (1) Sort the rows; (2) Sort the columns.  "
      ]
    },
    {
      "cell_type": "code",
      "execution_count": null,
      "id": "employed-lawsuit",
      "metadata": {
        "id": "employed-lawsuit"
      },
      "outputs": [],
      "source": [
        "a = np.array([[34, 43, 73], [82, 22, 12], [53, 94, 66]])\n",
        "a"
      ]
    },
    {
      "cell_type": "markdown",
      "source": [
        "# Original Array"
      ],
      "metadata": {
        "id": "f1SsNie4Gnu2"
      },
      "id": "f1SsNie4Gnu2"
    },
    {
      "cell_type": "code",
      "execution_count": 3,
      "id": "computational-spotlight",
      "metadata": {
        "colab": {
          "base_uri": "https://localhost:8080/"
        },
        "id": "computational-spotlight",
        "outputId": "6d399427-4ff3-4855-fafd-504aa9e86c0b"
      },
      "outputs": [
        {
          "output_type": "stream",
          "name": "stdout",
          "text": [
            "Original array:\n",
            "[[34 43 73]\n",
            " [82 22 12]\n",
            " [53 94 66]]\n"
          ]
        }
      ],
      "source": [
        "#Here's the given array:\n",
        "a = np.array([[34, 43, 73], [82, 22, 12], [53, 94, 66]])\n",
        "print(\"Original array:\")\n",
        "print(a)\n"
      ]
    },
    {
      "cell_type": "markdown",
      "source": [
        "#Sorting the Rows"
      ],
      "metadata": {
        "id": "6d0QvsS7F02y"
      },
      "id": "6d0QvsS7F02y"
    },
    {
      "cell_type": "code",
      "source": [
        "#Sorting the Rows\n",
        "sorted_rows = np.sort(a, axis=1)\n",
        "print(\"\\nArray with sorted rows:\")\n",
        "print(sorted_rows)\n",
        "\n"
      ],
      "metadata": {
        "colab": {
          "base_uri": "https://localhost:8080/"
        },
        "id": "QzEQOOKW3yfX",
        "outputId": "2824cfe1-8194-48ff-8585-d0dbb78c37ac"
      },
      "id": "QzEQOOKW3yfX",
      "execution_count": 4,
      "outputs": [
        {
          "output_type": "stream",
          "name": "stdout",
          "text": [
            "\n",
            "Array with sorted rows:\n",
            "[[34 43 73]\n",
            " [12 22 82]\n",
            " [53 66 94]]\n"
          ]
        }
      ]
    },
    {
      "cell_type": "markdown",
      "source": [
        "# Sorting Each Column"
      ],
      "metadata": {
        "id": "McjeDyXHF4OC"
      },
      "id": "McjeDyXHF4OC"
    },
    {
      "cell_type": "code",
      "source": [
        "# Sort each column\n",
        "sorted_columns = np.sort(a, axis=0)\n",
        "print(\"\\nArray with sorted columns:\")\n",
        "print(sorted_columns)\n"
      ],
      "metadata": {
        "colab": {
          "base_uri": "https://localhost:8080/"
        },
        "id": "F0l3ErAM9RFI",
        "outputId": "cd5091f1-b576-4793-f720-6324fae64e51"
      },
      "id": "F0l3ErAM9RFI",
      "execution_count": 5,
      "outputs": [
        {
          "output_type": "stream",
          "name": "stdout",
          "text": [
            "\n",
            "Array with sorted columns:\n",
            "[[34 22 12]\n",
            " [53 43 66]\n",
            " [82 94 73]]\n"
          ]
        }
      ]
    },
    {
      "cell_type": "markdown",
      "source": [
        "# Combining Everything"
      ],
      "metadata": {
        "id": "d-WO5adjGgAW"
      },
      "id": "d-WO5adjGgAW"
    },
    {
      "cell_type": "code",
      "source": [
        "# Original array\n",
        "a = np.array([[34, 43, 73], [82, 22, 12], [53, 94, 66]])\n",
        "print(\"Original array:\")\n",
        "print(a)\n",
        "\n",
        "# Sort each row\n",
        "sorted_rows = np.sort(a, axis=1)\n",
        "print(\"\\nArray with sorted rows:\")\n",
        "print(sorted_rows)\n",
        "\n",
        "# Sort each column\n",
        "sorted_columns = np.sort(a, axis=0)\n",
        "print(\"\\nArray with sorted columns:\")\n",
        "print(sorted_columns)\n"
      ],
      "metadata": {
        "colab": {
          "base_uri": "https://localhost:8080/"
        },
        "id": "bzD1ZRQi9TAw",
        "outputId": "0ac6d552-1923-4d7c-e0db-7c575dfe90c9"
      },
      "id": "bzD1ZRQi9TAw",
      "execution_count": 6,
      "outputs": [
        {
          "output_type": "stream",
          "name": "stdout",
          "text": [
            "Original array:\n",
            "[[34 43 73]\n",
            " [82 22 12]\n",
            " [53 94 66]]\n",
            "\n",
            "Array with sorted rows:\n",
            "[[34 43 73]\n",
            " [12 22 82]\n",
            " [53 66 94]]\n",
            "\n",
            "Array with sorted columns:\n",
            "[[34 22 12]\n",
            " [53 43 66]\n",
            " [82 94 73]]\n"
          ]
        }
      ]
    }
  ],
  "metadata": {
    "kernelspec": {
      "display_name": "Python 3",
      "language": "python",
      "name": "python3"
    },
    "language_info": {
      "codemirror_mode": {
        "name": "ipython",
        "version": 3
      },
      "file_extension": ".py",
      "mimetype": "text/x-python",
      "name": "python",
      "nbconvert_exporter": "python",
      "pygments_lexer": "ipython3",
      "version": "3.8.5"
    },
    "colab": {
      "provenance": []
    }
  },
  "nbformat": 4,
  "nbformat_minor": 5
}